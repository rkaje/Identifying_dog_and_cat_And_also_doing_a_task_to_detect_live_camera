{
 "cells": [
  {
   "cell_type": "code",
   "execution_count": 2,
   "id": "3519f4e7",
   "metadata": {},
   "outputs": [],
   "source": [
    "import cv2\n"
   ]
  },
  {
   "cell_type": "code",
   "execution_count": 3,
   "id": "c516bcd6",
   "metadata": {},
   "outputs": [
    {
     "name": "stdout",
     "output_type": "stream",
     "text": [
      "True\n"
     ]
    }
   ],
   "source": [
    "webcam = cv2.VideoCapture(0)\n",
    "#reading_frames\n",
    "ret,frame=webcam.read()\n",
    "#checking frame captured\n",
    "print(ret)\n",
    "#releasing the webcam\n",
    "webcam.release()"
   ]
  },
  {
   "cell_type": "code",
   "execution_count": 4,
   "id": "be8db4e5",
   "metadata": {},
   "outputs": [],
   "source": [
    "#displaying_image\n",
    "cv2.imshow(\"my first image\",frame)\n",
    "cv2.waitKey()\n",
    "#releasing all windows\n",
    "cv2.destroyAllWindows()"
   ]
  },
  {
   "cell_type": "code",
   "execution_count": 11,
   "id": "b692de28",
   "metadata": {},
   "outputs": [],
   "source": [
    "import cv2\n",
    "webcam = cv2.VideoCapture(0)\n",
    "while(True):\n",
    "    ret,frame=webcam.read()\n",
    "    gray=cv2.cvtColor(frame,cv2.COLOR_BGR2GRAY)\n",
    "    cv2.imshow(\"rohith\",gray)\n",
    "    if cv2.waitKey(1) & 0xFF == ord('q'):\n",
    "        break\n",
    "webcam.release()\n",
    "cv2.destroyAllWindows()"
   ]
  },
  {
   "cell_type": "code",
   "execution_count": 10,
   "id": "43cd7286",
   "metadata": {
    "scrolled": true
   },
   "outputs": [],
   "source": [
    "import cv2"
   ]
  },
  {
   "cell_type": "code",
   "execution_count": 11,
   "id": "0a378061",
   "metadata": {},
   "outputs": [],
   "source": [
    "facecascade = cv2.CascadeClassifier('http://localhost:8915/view/haarcascade_frontalface_default%20(2).xml')"
   ]
  },
  {
   "cell_type": "code",
   "execution_count": null,
   "id": "5f8e693e",
   "metadata": {},
   "outputs": [],
   "source": [
    "webcam = cv2.VideoCapture(0)\n",
    "while(True):\n",
    "    ret,frame = webcam.read()\n",
    "    gray = cv2.cvtColor(frame,cv2.COLOR_BGR2GRAY)\n",
    "    faces = facecascade.detectMultiScale(gray,scaleFactor=1.2,minNeighbors=5,minSize=(20,20))\n",
    "    for(x,y,w,h) in faces:\n",
    "        cv2.rectangle(frame,(x,y),(x+w,y+h),(255,0,0),2)\n",
    "    cv2.imwrite(\"family\",image)   \n",
    "    if cv2.waitKey(1) & 0xFF == ord('q'):\n",
    "        \n",
    "        break\n",
    "webcam.release()\n",
    "cv2.destroyALLWindows()\n",
    "    "
   ]
  },
  {
   "cell_type": "code",
   "execution_count": null,
   "id": "8bcefe3b",
   "metadata": {},
   "outputs": [],
   "source": []
  }
 ],
 "metadata": {
  "kernelspec": {
   "display_name": "Python 3 (ipykernel)",
   "language": "python",
   "name": "python3"
  },
  "language_info": {
   "codemirror_mode": {
    "name": "ipython",
    "version": 3
   },
   "file_extension": ".py",
   "mimetype": "text/x-python",
   "name": "python",
   "nbconvert_exporter": "python",
   "pygments_lexer": "ipython3",
   "version": "3.10.9"
  }
 },
 "nbformat": 4,
 "nbformat_minor": 5
}
